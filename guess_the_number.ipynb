{
 "cells": [
  {
   "cell_type": "markdown",
   "metadata": {},
   "source": [
    "import the library"
   ]
  },
  {
   "cell_type": "code",
   "execution_count": 3,
   "metadata": {},
   "outputs": [],
   "source": [
    "import numpy as np"
   ]
  },
  {
   "cell_type": "markdown",
   "metadata": {},
   "source": [
    "write the algorithm for finding the number"
   ]
  },
  {
   "cell_type": "code",
   "execution_count": 4,
   "metadata": {},
   "outputs": [],
   "source": [
    "def guess_the_number(number: int = 1) -> int:\n",
    "    count = 0\n",
    "    max_num = 101 # upper search threshold\n",
    "    min_num = 1 # lower search threshold\n",
    "    \"\"\"using the binary search\n",
    "\n",
    "    Args:\n",
    "        number (int): \n",
    "        with every attempt a value is halved until the right number is found\n",
    "        \n",
    "    Returns:\n",
    "        int: number of attempts\n",
    "    \"\"\"\n",
    "    \n",
    "    while True:\n",
    "        count += 1  \n",
    "        # find the median value\n",
    "        mid = (max_num+min_num) // 2\n",
    "        \n",
    "        # if the number is found, break out of the loop\n",
    "        if number == mid:\n",
    "            break\n",
    "        \n",
    "        # if the current value is higher, the lower threshold is increased\n",
    "        elif mid < number:\n",
    "            min_num = mid\n",
    "            \n",
    "        # if the current value is lower, the upper threshold is reduced\n",
    "        else:\n",
    "            max_num = mid        \n",
    "            \n",
    "    return count"
   ]
  },
  {
   "cell_type": "markdown",
   "metadata": {},
   "source": [
    "write the algorithm for scoring the number of attempts made"
   ]
  },
  {
   "cell_type": "code",
   "execution_count": 5,
   "metadata": {},
   "outputs": [
    {
     "name": "stdout",
     "output_type": "stream",
     "text": [
      "the algorithm predicts the number in 5 guesses on average\n"
     ]
    }
   ],
   "source": [
    "def score_attempt(guess_the_number) -> int:\n",
    "    \"\"\"how many attempts does it take to guess per 1000 approaches on average?\n",
    "    \n",
    "    Args:\n",
    "        random_predict ([type]): the guessing function\n",
    "\n",
    "    Returns:\n",
    "        int: average number of attempts\n",
    "    \"\"\"\n",
    "    \n",
    "    # create a list to save the number of attempts\n",
    "    count_lst = []\n",
    "    # set a fixed value for test reliability\n",
    "    np.random.seed(1)\n",
    "    # to guess the list of numbers\n",
    "    random_array = np.random.randint(1, 101, size=(1000))\n",
    "\n",
    "    # loop and add a new guess / attempt to the list\n",
    "    for number in random_array:\n",
    "        count_lst.append(guess_the_number(number))\n",
    "\n",
    "    #calculate the average number of attempts\n",
    "    score = int(np.mean(count_lst))\n",
    "\n",
    "    print(f'the algorithm predicts the number in {score} guesses on average')\n",
    "    return(score)\n",
    "\n",
    "# RUN\n",
    "if __name__ == '__main__':\n",
    "    score_attempt(guess_the_number)"
   ]
  }
 ],
 "metadata": {
  "kernelspec": {
   "display_name": "Python 3",
   "language": "python",
   "name": "python3"
  },
  "language_info": {
   "codemirror_mode": {
    "name": "ipython",
    "version": 3
   },
   "file_extension": ".py",
   "mimetype": "text/x-python",
   "name": "python",
   "nbconvert_exporter": "python",
   "pygments_lexer": "ipython3",
   "version": "3.10.5"
  }
 },
 "nbformat": 4,
 "nbformat_minor": 2
}
